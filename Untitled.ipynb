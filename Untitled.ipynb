{
 "cells": [
  {
   "cell_type": "code",
   "execution_count": 1,
   "metadata": {
    "collapsed": true
   },
   "outputs": [],
   "source": [
    "import numpy as np\n",
    "import pandas as pd"
   ]
  },
  {
   "cell_type": "code",
   "execution_count": 2,
   "metadata": {},
   "outputs": [
    {
     "name": "stderr",
     "output_type": "stream",
     "text": [
      "C:\\Users\\Admin\\Anaconda2\\lib\\site-packages\\IPython\\core\\interactiveshell.py:2717: DtypeWarning: Columns (3) have mixed types. Specify dtype option on import or set low_memory=False.\n",
      "  interactivity=interactivity, compiler=compiler, result=result)\n",
      "C:\\Users\\Admin\\Anaconda2\\lib\\site-packages\\IPython\\core\\interactiveshell.py:2717: DtypeWarning: Columns (21,23,24,25,26,27) have mixed types. Specify dtype option on import or set low_memory=False.\n",
      "  interactivity=interactivity, compiler=compiler, result=result)\n"
     ]
    }
   ],
   "source": [
    "drug_df = pd.read_csv('DE1_0_2008_to_2010_Prescription_Drug_Events_Sample_1.csv')\n",
    "ben_df_08 = pd.read_csv('DE1_0_2008_Beneficiary_Summary_File_Sample_1.csv')\n",
    "ben_df_09 = pd.read_csv('DE1_0_2009_Beneficiary_Summary_File_Sample_1.csv')\n",
    "ben_df_10 = pd.read_csv('DE1_0_2010_Beneficiary_Summary_File_Sample_1.csv')\n",
    "in_claims_df = pd.read_csv('DE1_0_2008_to_2010_Inpatient_Claims_Sample_1.csv')\n",
    "out_claims_df = pd.read_csv('DE1_0_2008_to_2010_Outpatient_Claims_Sample_1.csv')"
   ]
  },
  {
   "cell_type": "code",
   "execution_count": 3,
   "metadata": {
    "collapsed": true
   },
   "outputs": [],
   "source": [
    "ben_df_08['YEAR'] = 2008\n",
    "ben_df_09['YEAR'] = 2009\n",
    "ben_df_10['YEAR'] = 2010\n",
    "ben_df = ben_df_08.append(ben_df_09)\n",
    "ben_df = ben_df.append(ben_df_10)"
   ]
  },
  {
   "cell_type": "code",
   "execution_count": 4,
   "metadata": {},
   "outputs": [
    {
     "name": "stdout",
     "output_type": "stream",
     "text": [
      "(116352, 33)\n",
      "(114538, 33)\n",
      "(112754, 33)\n",
      "(343644, 33)\n"
     ]
    }
   ],
   "source": [
    "print(ben_df_08.shape)\n",
    "print(ben_df_09.shape)\n",
    "print(ben_df_10.shape)\n",
    "print(ben_df.shape)"
   ]
  },
  {
   "cell_type": "code",
   "execution_count": 7,
   "metadata": {
    "collapsed": true
   },
   "outputs": [],
   "source": [
    "top_drug_df =drug_df.groupby(['PROD_SRVC_ID']).size().reset_index(name = 'count').sort_values(by = 'count',ascending = False).head(100)"
   ]
  },
  {
   "cell_type": "code",
   "execution_count": 8,
   "metadata": {
    "collapsed": true
   },
   "outputs": [],
   "source": [
    "selected_ids_df = pd.merge(left = drug_df, right = top_drug_df, how = 'inner', left_on = 'PROD_SRVC_ID', right_on = 'PROD_SRVC_ID')"
   ]
  },
  {
   "cell_type": "code",
   "execution_count": 9,
   "metadata": {},
   "outputs": [
    {
     "name": "stdout",
     "output_type": "stream",
     "text": [
      "(12573, 9)\n",
      "        DESYNPUF_ID           PDE_ID   SRVC_DT PROD_SRVC_ID  QTY_DSPNSD_NUM  \\\n",
      "0  00013D2EFD8E45D1  233404493122614  20080310  65841006810           100.0   \n",
      "1  0163840E2B57FCBA  233254492071939  20080607  65841006810            30.0   \n",
      "2  06961B6E8785325D  233524490397470  20100225  65841006810            30.0   \n",
      "3  06E0A8D7FC93EA18  233884491622928  20080714  65841006810            90.0   \n",
      "4  072D3AB9A1D8AA02  233874488989143  20090624  65841006810            30.0   \n",
      "5  0941DBE58D11E832  233114492755396  20090710  65841006810            90.0   \n",
      "6  0972708AA689BEC9  233644492012398  20100612  65841006810            20.0   \n",
      "7  0CD901AA274D0351  233804492965156  20080821  65841006810            30.0   \n",
      "8  0D0E47915FEAD60F  233024492783269  20100814  65841006810            30.0   \n",
      "9  0E67268CFEB27CDD  233404490751672  20091221  65841006810            30.0   \n",
      "\n",
      "   DAYS_SUPLY_NUM  PTNT_PAY_AMT  TOT_RX_CST_AMT  count  \n",
      "0              30          20.0            20.0    120  \n",
      "1              90          30.0            90.0    120  \n",
      "2              30           0.0            10.0    120  \n",
      "3              30           0.0            10.0    120  \n",
      "4              30           0.0            10.0    120  \n",
      "5              30           0.0           120.0    120  \n",
      "6              30          10.0            90.0    120  \n",
      "7              30          20.0           110.0    120  \n",
      "8              30          90.0           340.0    120  \n",
      "9              30         170.0           130.0    120  \n",
      "10368\n"
     ]
    }
   ],
   "source": [
    "print(selected_ids_df.shape)\n",
    "print(selected_ids_df.head(10))\n",
    "print(len(selected_ids_df.DESYNPUF_ID.unique()))\n",
    "selected_ben = selected_ids_df.DESYNPUF_ID.unique()"
   ]
  },
  {
   "cell_type": "code",
   "execution_count": 11,
   "metadata": {},
   "outputs": [
    {
     "name": "stdout",
     "output_type": "stream",
     "text": [
      "(30935, 33)\n",
      "33\n"
     ]
    }
   ],
   "source": [
    "ben_df.columns\n",
    "print(ben_df[ben_df['DESYNPUF_ID'].isin(selected_ben)].shape)\n",
    "print(len(ben_df.columns))"
   ]
  },
  {
   "cell_type": "code",
   "execution_count": 29,
   "metadata": {},
   "outputs": [
    {
     "name": "stdout",
     "output_type": "stream",
     "text": [
      "(66773, 38)\n",
      "(66773, 38)\n"
     ]
    }
   ],
   "source": [
    "print(in_claims_df.shape)\n",
    "print(in_claims_df[in_claims_df.columns[:38]].shape)"
   ]
  },
  {
   "cell_type": "code",
   "execution_count": 33,
   "metadata": {},
   "outputs": [
    {
     "data": {
      "text/plain": [
       "Index([u'DESYNPUF_ID', u'CLM_ID', u'SEGMENT', u'CLM_FROM_DT', u'CLM_THRU_DT',\n",
       "       u'PRVDR_NUM', u'CLM_PMT_AMT', u'NCH_PRMRY_PYR_CLM_PD_AMT',\n",
       "       u'AT_PHYSN_NPI', u'OP_PHYSN_NPI', u'OT_PHYSN_NPI', u'CLM_ADMSN_DT',\n",
       "       u'ADMTNG_ICD9_DGNS_CD', u'CLM_PASS_THRU_PER_DIEM_AMT',\n",
       "       u'NCH_BENE_IP_DDCTBL_AMT', u'NCH_BENE_PTA_COINSRNC_LBLTY_AM',\n",
       "       u'NCH_BENE_BLOOD_DDCTBL_LBLTY_AM', u'CLM_UTLZTN_DAY_CNT',\n",
       "       u'NCH_BENE_DSCHRG_DT', u'CLM_DRG_CD', u'ICD9_DGNS_CD_1',\n",
       "       u'ICD9_DGNS_CD_2', u'ICD9_DGNS_CD_3', u'ICD9_DGNS_CD_4',\n",
       "       u'ICD9_DGNS_CD_5', u'ICD9_DGNS_CD_6', u'ICD9_DGNS_CD_7',\n",
       "       u'ICD9_DGNS_CD_8', u'ICD9_DGNS_CD_9', u'ICD9_DGNS_CD_10',\n",
       "       u'ICD9_PRCDR_CD_1', u'ICD9_PRCDR_CD_2', u'ICD9_PRCDR_CD_3',\n",
       "       u'ICD9_PRCDR_CD_4', u'ICD9_PRCDR_CD_5', u'ICD9_PRCDR_CD_6',\n",
       "       u'HCPCS_CD_1', u'HCPCS_CD_2'],\n",
       "      dtype='object')"
      ]
     },
     "execution_count": 33,
     "metadata": {},
     "output_type": "execute_result"
    }
   ],
   "source": [
    "in_claims_df.columns"
   ]
  },
  {
   "cell_type": "code",
   "execution_count": 58,
   "metadata": {},
   "outputs": [],
   "source": [
    "out_claims_df['CLM_FROM_DT'].unique()\n",
    "out_claims_df.fillna(0, inplace = True)"
   ]
  },
  {
   "cell_type": "code",
   "execution_count": 60,
   "metadata": {},
   "outputs": [],
   "source": [
    "in_claims_df = in_claims_df[in_claims_df.columns[:36]]\n",
    "in_claims_df['IN_YEAR'] = in_claims_df['CLM_ADMSN_DT'].apply(lambda x : str(x)[:4])\n",
    "in_claims_df['IN_YEAR'] = in_claims_df['IN_YEAR'].astype('int64')\n",
    "summary_in_claims = in_claims_df[in_claims_df[u'DESYNPUF_ID'].isin(selected_ben)]\n",
    "# out_claims_df=out_claims_df[out_claims_df.columns[:28]]\n",
    "# out_claims_df['OUT_YEAR'] = out_claims_df[u'CLM_FROM_DT'].apply(lambda x : str(x)[:4])\n",
    "# out_claims_df['OUT_YEAR'] = out_claims_df['OUT_YEAR'].astype('int64')\n",
    "# summary_out_claims = out_claims_df[out_claims_df[u'DESYNPUF_ID'].isin(selected_ben)]"
   ]
  },
  {
   "cell_type": "code",
   "execution_count": 63,
   "metadata": {},
   "outputs": [
    {
     "name": "stdout",
     "output_type": "stream",
     "text": [
      "(345903, 69)\n"
     ]
    }
   ],
   "source": [
    "ben_df_1 = pd.merge(left = ben_df, right = summary_in_claims, how = 'left', left_on = ['DESYNPUF_ID','YEAR'], right_on = ['DESYNPUF_ID','IN_YEAR'])\n",
    "print(ben_df_1.shape)\n",
    "# ben_df_2 = pd.merge(left = ben_df_1, right = summary_out_claims, how = 'inner', left_on =['DESYNPUF_ID','YEAR'], right_on = ['DESYNPUF_ID','OUT_YEAR'])\n",
    "# print(ben_df_2.shape)"
   ]
  },
  {
   "cell_type": "code",
   "execution_count": 67,
   "metadata": {},
   "outputs": [],
   "source": [
    "drug_df['D_YEAR'] = drug_df['SRVC_DT'].apply(lambda x : str(x)[:4])\n",
    "drug_df['D_YEAR'] = drug_df['D_YEAR'].astype('int64')"
   ]
  },
  {
   "cell_type": "code",
   "execution_count": 68,
   "metadata": {},
   "outputs": [
    {
     "data": {
      "text/html": [
       "<div>\n",
       "<style>\n",
       "    .dataframe thead tr:only-child th {\n",
       "        text-align: right;\n",
       "    }\n",
       "\n",
       "    .dataframe thead th {\n",
       "        text-align: left;\n",
       "    }\n",
       "\n",
       "    .dataframe tbody tr th {\n",
       "        vertical-align: top;\n",
       "    }\n",
       "</style>\n",
       "<table border=\"1\" class=\"dataframe\">\n",
       "  <thead>\n",
       "    <tr style=\"text-align: right;\">\n",
       "      <th></th>\n",
       "      <th>DESYNPUF_ID</th>\n",
       "      <th>PDE_ID</th>\n",
       "      <th>SRVC_DT</th>\n",
       "      <th>PROD_SRVC_ID</th>\n",
       "      <th>QTY_DSPNSD_NUM</th>\n",
       "      <th>DAYS_SUPLY_NUM</th>\n",
       "      <th>PTNT_PAY_AMT</th>\n",
       "      <th>TOT_RX_CST_AMT</th>\n",
       "      <th>D_YEAR</th>\n",
       "    </tr>\n",
       "  </thead>\n",
       "  <tbody>\n",
       "    <tr>\n",
       "      <th>0</th>\n",
       "      <td>00013D2EFD8E45D1</td>\n",
       "      <td>233664490397622</td>\n",
       "      <td>20080103</td>\n",
       "      <td>247037252</td>\n",
       "      <td>30.0</td>\n",
       "      <td>20</td>\n",
       "      <td>10.0</td>\n",
       "      <td>120.0</td>\n",
       "      <td>2008</td>\n",
       "    </tr>\n",
       "    <tr>\n",
       "      <th>1</th>\n",
       "      <td>00013D2EFD8E45D1</td>\n",
       "      <td>233644490171972</td>\n",
       "      <td>20080105</td>\n",
       "      <td>223039502</td>\n",
       "      <td>10.0</td>\n",
       "      <td>10</td>\n",
       "      <td>0.0</td>\n",
       "      <td>0.0</td>\n",
       "      <td>2008</td>\n",
       "    </tr>\n",
       "    <tr>\n",
       "      <th>2</th>\n",
       "      <td>00013D2EFD8E45D1</td>\n",
       "      <td>233974489116848</td>\n",
       "      <td>20080109</td>\n",
       "      <td>364724812</td>\n",
       "      <td>120.0</td>\n",
       "      <td>30</td>\n",
       "      <td>10.0</td>\n",
       "      <td>110.0</td>\n",
       "      <td>2008</td>\n",
       "    </tr>\n",
       "    <tr>\n",
       "      <th>3</th>\n",
       "      <td>00013D2EFD8E45D1</td>\n",
       "      <td>233574491083209</td>\n",
       "      <td>20080123</td>\n",
       "      <td>179180672</td>\n",
       "      <td>30.0</td>\n",
       "      <td>30</td>\n",
       "      <td>0.0</td>\n",
       "      <td>240.0</td>\n",
       "      <td>2008</td>\n",
       "    </tr>\n",
       "    <tr>\n",
       "      <th>4</th>\n",
       "      <td>00013D2EFD8E45D1</td>\n",
       "      <td>233024491180571</td>\n",
       "      <td>20080124</td>\n",
       "      <td>58016005300</td>\n",
       "      <td>30.0</td>\n",
       "      <td>30</td>\n",
       "      <td>70.0</td>\n",
       "      <td>70.0</td>\n",
       "      <td>2008</td>\n",
       "    </tr>\n",
       "    <tr>\n",
       "      <th>5</th>\n",
       "      <td>00013D2EFD8E45D1</td>\n",
       "      <td>233884492803278</td>\n",
       "      <td>20080124</td>\n",
       "      <td>53650001801</td>\n",
       "      <td>30.0</td>\n",
       "      <td>30</td>\n",
       "      <td>10.0</td>\n",
       "      <td>40.0</td>\n",
       "      <td>2008</td>\n",
       "    </tr>\n",
       "    <tr>\n",
       "      <th>6</th>\n",
       "      <td>00013D2EFD8E45D1</td>\n",
       "      <td>233594491623171</td>\n",
       "      <td>20080125</td>\n",
       "      <td>8032506</td>\n",
       "      <td>180.0</td>\n",
       "      <td>30</td>\n",
       "      <td>0.0</td>\n",
       "      <td>10.0</td>\n",
       "      <td>2008</td>\n",
       "    </tr>\n",
       "    <tr>\n",
       "      <th>7</th>\n",
       "      <td>00013D2EFD8E45D1</td>\n",
       "      <td>233894491962732</td>\n",
       "      <td>20080129</td>\n",
       "      <td>58016081825</td>\n",
       "      <td>100.0</td>\n",
       "      <td>30</td>\n",
       "      <td>20.0</td>\n",
       "      <td>10.0</td>\n",
       "      <td>2008</td>\n",
       "    </tr>\n",
       "    <tr>\n",
       "      <th>8</th>\n",
       "      <td>00013D2EFD8E45D1</td>\n",
       "      <td>233344491666810</td>\n",
       "      <td>20080201</td>\n",
       "      <td>51129143701</td>\n",
       "      <td>30.0</td>\n",
       "      <td>30</td>\n",
       "      <td>10.0</td>\n",
       "      <td>0.0</td>\n",
       "      <td>2008</td>\n",
       "    </tr>\n",
       "    <tr>\n",
       "      <th>9</th>\n",
       "      <td>00013D2EFD8E45D1</td>\n",
       "      <td>233884490733605</td>\n",
       "      <td>20080205</td>\n",
       "      <td>67668013231</td>\n",
       "      <td>10.0</td>\n",
       "      <td>10</td>\n",
       "      <td>10.0</td>\n",
       "      <td>30.0</td>\n",
       "      <td>2008</td>\n",
       "    </tr>\n",
       "  </tbody>\n",
       "</table>\n",
       "</div>"
      ],
      "text/plain": [
       "        DESYNPUF_ID           PDE_ID   SRVC_DT PROD_SRVC_ID  QTY_DSPNSD_NUM  \\\n",
       "0  00013D2EFD8E45D1  233664490397622  20080103    247037252            30.0   \n",
       "1  00013D2EFD8E45D1  233644490171972  20080105    223039502            10.0   \n",
       "2  00013D2EFD8E45D1  233974489116848  20080109    364724812           120.0   \n",
       "3  00013D2EFD8E45D1  233574491083209  20080123    179180672            30.0   \n",
       "4  00013D2EFD8E45D1  233024491180571  20080124  58016005300            30.0   \n",
       "5  00013D2EFD8E45D1  233884492803278  20080124  53650001801            30.0   \n",
       "6  00013D2EFD8E45D1  233594491623171  20080125      8032506           180.0   \n",
       "7  00013D2EFD8E45D1  233894491962732  20080129  58016081825           100.0   \n",
       "8  00013D2EFD8E45D1  233344491666810  20080201  51129143701            30.0   \n",
       "9  00013D2EFD8E45D1  233884490733605  20080205  67668013231            10.0   \n",
       "\n",
       "   DAYS_SUPLY_NUM  PTNT_PAY_AMT  TOT_RX_CST_AMT  D_YEAR  \n",
       "0              20          10.0           120.0    2008  \n",
       "1              10           0.0             0.0    2008  \n",
       "2              30          10.0           110.0    2008  \n",
       "3              30           0.0           240.0    2008  \n",
       "4              30          70.0            70.0    2008  \n",
       "5              30          10.0            40.0    2008  \n",
       "6              30           0.0            10.0    2008  \n",
       "7              30          20.0            10.0    2008  \n",
       "8              30          10.0             0.0    2008  \n",
       "9              10          10.0            30.0    2008  "
      ]
     },
     "execution_count": 68,
     "metadata": {},
     "output_type": "execute_result"
    }
   ],
   "source": [
    "drug_df.head(10)"
   ]
  },
  {
   "cell_type": "code",
   "execution_count": 69,
   "metadata": {},
   "outputs": [
    {
     "name": "stdout",
     "output_type": "stream",
     "text": [
      "(345903, 69)\n"
     ]
    }
   ],
   "source": [
    "ben_df_2 = pd.merge(left = ben_df_1, right =drug_df , how = 'left', left_on = ['DESYNPUF_ID','YEAR'], right_on = ['DESYNPUF_ID','D_YEAR'])\n",
    "print(ben_df_1.shape)"
   ]
  }
 ],
 "metadata": {
  "kernelspec": {
   "display_name": "Python 2",
   "language": "python",
   "name": "python2"
  },
  "language_info": {
   "codemirror_mode": {
    "name": "ipython",
    "version": 2
   },
   "file_extension": ".py",
   "mimetype": "text/x-python",
   "name": "python",
   "nbconvert_exporter": "python",
   "pygments_lexer": "ipython2",
   "version": "2.7.13"
  }
 },
 "nbformat": 4,
 "nbformat_minor": 2
}
