{
 "cells": [
  {
   "cell_type": "code",
   "execution_count": 1,
   "metadata": {
    "collapsed": true
   },
   "outputs": [],
   "source": [
    "import numpy as np\n",
    "import pandas as pd"
   ]
  },
  {
   "cell_type": "code",
   "execution_count": 2,
   "metadata": {},
   "outputs": [
    {
     "name": "stdout",
     "output_type": "stream",
     "text": [
      "(343644, 32)\n"
     ]
    }
   ],
   "source": [
    "# drug_df = pd.read_csv('DE1_0_2008_to_2010_Prescription_Drug_Events_Sample_1.csv')\n",
    "ben_df_08 = pd.read_csv('DE1_0_2008_Beneficiary_Summary_File_Sample_1.csv')\n",
    "ben_df_09 = pd.read_csv('DE1_0_2009_Beneficiary_Summary_File_Sample_1.csv')\n",
    "ben_df_10 = pd.read_csv('DE1_0_2010_Beneficiary_Summary_File_Sample_1.csv')\n",
    "ben_df = ben_df_08.append(ben_df_09)\n",
    "ben_df = ben_df.append(ben_df_10)\n",
    "print(ben_df.shape)"
   ]
  },
  {
   "cell_type": "code",
   "execution_count": 3,
   "metadata": {},
   "outputs": [
    {
     "name": "stderr",
     "output_type": "stream",
     "text": [
      "/home/twinkle/anaconda3/lib/python3.6/site-packages/IPython/core/interactiveshell.py:2698: DtypeWarning: Columns (21,23,24,25,26,27) have mixed types. Specify dtype option on import or set low_memory=False.\n",
      "  interactivity=interactivity, compiler=compiler, result=result)\n"
     ]
    }
   ],
   "source": [
    "in_claims_df = pd.read_csv('DE1_0_2008_to_2010_Inpatient_Claims_Sample_1.csv')\n",
    "out_claims_df = pd.read_csv('DE1_0_2008_to_2010_Outpatient_Claims_Sample_1.csv')\n",
    "# print (in_claims_df['DESYNPUF_ID','CLM_PMT_AMT', 'NCH_PRMRY_PYR_CLM_PD_AMT'][:10])\n",
    "# print (out_claims_df['DESYNPUF_ID', 'CLM_PMT_AMT', 'NCH_PRMRY_PYR_CLM_PD_AMT'][:10])\n",
    "# print (in_claims_df[['DESYNPUF_ID', 'CLM_PMT_AMT', 'NCH_PRMRY_PYR_CLM_PD_AMT']][:10])\n",
    "in_claims_df['Sum']=in_claims_df['CLM_PMT_AMT']+in_claims_df['NCH_PRMRY_PYR_CLM_PD_AMT']\n",
    "out_claims_df['Sum']=out_claims_df['CLM_PMT_AMT']+out_claims_df['NCH_PRMRY_PYR_CLM_PD_AMT']"
   ]
  },
  {
   "cell_type": "code",
   "execution_count": 4,
   "metadata": {},
   "outputs": [],
   "source": [
    "in_df=in_claims_df[['AT_PHYSN_NPI','DESYNPUF_ID','Sum','CLM_FROM_DT']]\n",
    "out_df=out_claims_df[['AT_PHYSN_NPI', 'DESYNPUF_ID','Sum','CLM_FROM_DT']]\n",
    "# print(in_df[:10])\n",
    "# print(out_df[:10])"
   ]
  },
  {
   "cell_type": "code",
   "execution_count": 5,
   "metadata": {},
   "outputs": [
    {
     "name": "stdout",
     "output_type": "stream",
     "text": [
      "66773 790790\n"
     ]
    }
   ],
   "source": [
    "print (len(in_df),len(out_df))\n",
    "claims=in_df.append(out_df)\n",
    "# claims=pd.merge(left=in_df,right=out_df,how='inner',left_on='DESYNPUF_ID',right_on='DESYNPUF_ID')"
   ]
  },
  {
   "cell_type": "code",
   "execution_count": 6,
   "metadata": {},
   "outputs": [
    {
     "name": "stdout",
     "output_type": "stream",
     "text": [
      "66773 790790 857563\n",
      "   AT_PHYSN_NPI       DESYNPUF_ID      Sum  CLM_FROM_DT\n",
      "0  3.139084e+09  00013D2EFD8E45D1   4000.0   20100312.0\n",
      "1  6.476809e+09  00016F745862898F  26000.0   20090412.0\n",
      "2  6.119985e+08  00016F745862898F   5000.0   20090831.0\n",
      "3  4.971603e+09  00016F745862898F   5000.0   20090917.0\n",
      "4  6.408400e+09  00016F745862898F  16000.0   20100626.0\n",
      "5  6.132011e+09  00052705243EA128  14000.0   20080912.0\n",
      "6  8.956736e+09  0007F12A492FD25D   5000.0   20080919.0\n",
      "7  5.838959e+09  0007F12A492FD25D   5000.0   20100602.0\n",
      "8  1.907447e+09  0007F12A492FD25D  14000.0   20100522.0\n",
      "9  4.959466e+09  0007F12A492FD25D  29000.0   20100616.0\n"
     ]
    }
   ],
   "source": [
    "print (len(in_df),len(out_df),len(claims))\n",
    "print (claims[:10])\n",
    "claims.to_csv('claims_time.csv')"
   ]
  },
  {
   "cell_type": "code",
   "execution_count": 8,
   "metadata": {},
   "outputs": [
    {
     "name": "stdout",
     "output_type": "stream",
     "text": [
      "66100\n"
     ]
    }
   ],
   "source": [
    "in_df_clean=in_df.dropna()\n",
    "in_df_clean.to_csv('inpatient_claimamt.csv')\n",
    "print(len(in_df_clean))"
   ]
  }
 ],
 "metadata": {
  "kernelspec": {
   "display_name": "Python 3",
   "language": "python",
   "name": "python3"
  },
  "language_info": {
   "codemirror_mode": {
    "name": "ipython",
    "version": 3
   },
   "file_extension": ".py",
   "mimetype": "text/x-python",
   "name": "python",
   "nbconvert_exporter": "python",
   "pygments_lexer": "ipython3",
   "version": "3.6.2"
  }
 },
 "nbformat": 4,
 "nbformat_minor": 2
}
